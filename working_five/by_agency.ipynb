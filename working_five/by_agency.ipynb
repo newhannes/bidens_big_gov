{
 "cells": [
  {
   "cell_type": "code",
   "execution_count": 1,
   "metadata": {},
   "outputs": [],
   "source": [
    "#CODE TO GET CHANGES IN OVERALL AGENCY SPENDING\n",
    "import pandas as pd\n",
    "import os"
   ]
  },
  {
   "cell_type": "code",
   "execution_count": 13,
   "metadata": {},
   "outputs": [
    {
     "name": "stdout",
     "output_type": "stream",
     "text": [
      "Number of agencies in og cbo24 dataset:\n",
      "134\n"
     ]
    },
    {
     "data": {
      "text/html": [
       "<div>\n",
       "<style scoped>\n",
       "    .dataframe tbody tr th:only-of-type {\n",
       "        vertical-align: middle;\n",
       "    }\n",
       "\n",
       "    .dataframe tbody tr th {\n",
       "        vertical-align: top;\n",
       "    }\n",
       "\n",
       "    .dataframe thead th {\n",
       "        text-align: right;\n",
       "    }\n",
       "</style>\n",
       "<table border=\"1\" class=\"dataframe\">\n",
       "  <thead>\n",
       "    <tr style=\"text-align: right;\">\n",
       "      <th></th>\n",
       "      <th>25-34</th>\n",
       "    </tr>\n",
       "    <tr>\n",
       "      <th>Agency</th>\n",
       "      <th></th>\n",
       "    </tr>\n",
       "  </thead>\n",
       "  <tbody>\n",
       "    <tr>\n",
       "      <th>400 Years of African-American History Commission</th>\n",
       "      <td>32.0</td>\n",
       "    </tr>\n",
       "    <tr>\n",
       "      <th>Access Board</th>\n",
       "      <td>119.0</td>\n",
       "    </tr>\n",
       "    <tr>\n",
       "      <th>Administrative Conference of the United States</th>\n",
       "      <td>36.0</td>\n",
       "    </tr>\n",
       "  </tbody>\n",
       "</table>\n",
       "</div>"
      ],
      "text/plain": [
       "                                                  25-34\n",
       "Agency                                                 \n",
       "400 Years of African-American History Commission   32.0\n",
       "Access Board                                      119.0\n",
       "Administrative Conference of the United States     36.0"
      ]
     },
     "execution_count": 13,
     "metadata": {},
     "output_type": "execute_result"
    }
   ],
   "source": [
    "#FEB 2024 CBO SPENDING PROJECTIONS\n",
    "years = [i for i in range(2024, 2024+11)] \n",
    "cbo_ot = pd.read_excel('data/cbo-2024-02-Spending-Projections.xlsx', header=7, sheet_name=1)\n",
    "cbo_ot = cbo_ot[[col for col in cbo_ot.columns if col not in years]] #remove the BA cols\n",
    "cbo_ot.columns = cbo_ot.columns.str.replace('.1', '') #clean the OT cols\n",
    "cbo_ot = cbo_ot.drop(columns=['Unnamed: 9', \"Unnamed: 21\", \"Off-Budget?\"]).drop(index=0).drop(cbo_ot.index[-2:]) #drop the weird empty rows and the empty cols and offbud col\n",
    "cbo_ot['25-34'] = cbo_ot.loc[:, '2025':'2034'].sum(axis=1) #sum the ots over the 10yr window\n",
    "print(\"Number of agencies in og cbo24 dataset:\")\n",
    "print(cbo_ot[\"Agency\"].nunique())\n",
    "cbo_ot[\"Agency\"] = cbo_ot[\"Agency\"].str.strip()\n",
    "cbo_ot = cbo_ot[['Agency', \"25-34\"]].groupby(\"Agency\").sum() #get sum of ots by agency\n",
    "cbo_ot.head(3)"
   ]
  },
  {
   "cell_type": "code",
   "execution_count": 17,
   "metadata": {},
   "outputs": [
    {
     "name": "stdout",
     "output_type": "stream",
     "text": [
      "Number of agencies in og cbo21 dataset:\n",
      "132\n"
     ]
    },
    {
     "data": {
      "text/html": [
       "<div>\n",
       "<style scoped>\n",
       "    .dataframe tbody tr th:only-of-type {\n",
       "        vertical-align: middle;\n",
       "    }\n",
       "\n",
       "    .dataframe tbody tr th {\n",
       "        vertical-align: top;\n",
       "    }\n",
       "\n",
       "    .dataframe thead th {\n",
       "        text-align: right;\n",
       "    }\n",
       "</style>\n",
       "<table border=\"1\" class=\"dataframe\">\n",
       "  <thead>\n",
       "    <tr style=\"text-align: right;\">\n",
       "      <th></th>\n",
       "      <th>22-31</th>\n",
       "    </tr>\n",
       "    <tr>\n",
       "      <th>Agency</th>\n",
       "      <th></th>\n",
       "    </tr>\n",
       "  </thead>\n",
       "  <tbody>\n",
       "    <tr>\n",
       "      <th>Access Board</th>\n",
       "      <td>106</td>\n",
       "    </tr>\n",
       "    <tr>\n",
       "      <th>Administrative Conference of the United States</th>\n",
       "      <td>35</td>\n",
       "    </tr>\n",
       "    <tr>\n",
       "      <th>Advisory Council on Historic Preservation</th>\n",
       "      <td>82</td>\n",
       "    </tr>\n",
       "  </tbody>\n",
       "</table>\n",
       "</div>"
      ],
      "text/plain": [
       "                                                22-31\n",
       "Agency                                               \n",
       "Access Board                                      106\n",
       "Administrative Conference of the United States     35\n",
       "Advisory Council on Historic Preservation          82"
      ]
     },
     "execution_count": 17,
     "metadata": {},
     "output_type": "execute_result"
    }
   ],
   "source": [
    "#FEB 2021 CBO SPENDING PROJECTIONS\n",
    "cbo21_ot = pd.read_excel('data/cbo-2021-02-11-spendingprojections.xlsx', header=7, sheet_name=1)\n",
    "years_21 = [i for i in range(2021, 2032)]\n",
    "cbo21_ot = cbo21_ot[[col for col in cbo21_ot.columns if col not in years_21]].drop(columns=[\"Off-Budget?\", \"Unnamed: 9\", \"Unnamed: 21\"]) #remove the BA cols, unnamed and unnecessary columns\n",
    "cbo21_ot.columns = cbo21_ot.columns.str.replace('.1', '') #clean OT columns\n",
    "cbo21_ot[\"22-31\"] = cbo21_ot.loc[:, '2022':'2031'].sum(axis=1) #sum the years\n",
    "print(\"Number of agencies in og cbo21 dataset:\")\n",
    "print(cbo21_ot[\"Agency\"].nunique())\n",
    "cbo21_ot[\"Agency\"] = cbo21_ot[\"Agency\"].str.strip()\n",
    "cbo21_ot['Agency'] = cbo21_ot['Agency'].replace('Other Defense Civil Programs', 'Other Defense--Civil Programs').replace(\"Committee for Purchase from People Who Are Blind or Severely Dis\", \"Committee for Purchase From People Who Are Blind/Disabled\" )\n",
    "\n",
    "cbo21_ot = cbo21_ot[[\"Agency\", \"22-31\"]].groupby(\"Agency\").sum() #group by agency and sum the total\n",
    "cbo21_ot.head(3)"
   ]
  },
  {
   "cell_type": "code",
   "execution_count": 18,
   "metadata": {},
   "outputs": [
    {
     "name": "stdout",
     "output_type": "stream",
     "text": [
      "This is a new agency since 2021: 400 Years of African-American History Commission\n",
      "This is a new agency since 2021: Southeast Crescent Regional Commission\n",
      "This is a new agency since 2021: Southwest Border Regional Commission\n"
     ]
    }
   ],
   "source": [
    "#2024 AGENCIES NOT IN 2021 AGENCIES\n",
    "for agency24 in cbo_ot.index:\n",
    "    if agency24 not in cbo21_ot.index:\n",
    "        print(\"This is a new agency since 2021:\", agency24)"
   ]
  },
  {
   "cell_type": "code",
   "execution_count": 19,
   "metadata": {},
   "outputs": [
    {
     "name": "stdout",
     "output_type": "stream",
     "text": [
      "This 2021 agency is no longer around: United States Enrichment Corporation Fund\n"
     ]
    }
   ],
   "source": [
    "#2021 AGENCIES NOT IN 2024 AGENCIES\n",
    "for agency21 in cbo21_ot.index:\n",
    "    if agency21 not in cbo_ot.index:\n",
    "        print(\"This 2021 agency is no longer around:\", agency21)"
   ]
  },
  {
   "cell_type": "code",
   "execution_count": 27,
   "metadata": {},
   "outputs": [
    {
     "data": {
      "text/html": [
       "<div>\n",
       "<style scoped>\n",
       "    .dataframe tbody tr th:only-of-type {\n",
       "        vertical-align: middle;\n",
       "    }\n",
       "\n",
       "    .dataframe tbody tr th {\n",
       "        vertical-align: top;\n",
       "    }\n",
       "\n",
       "    .dataframe thead th {\n",
       "        text-align: right;\n",
       "    }\n",
       "</style>\n",
       "<table border=\"1\" class=\"dataframe\">\n",
       "  <thead>\n",
       "    <tr style=\"text-align: right;\">\n",
       "      <th></th>\n",
       "      <th>Agency</th>\n",
       "      <th>22-31</th>\n",
       "      <th>25-34</th>\n",
       "      <th>percent_change</th>\n",
       "    </tr>\n",
       "  </thead>\n",
       "  <tbody>\n",
       "    <tr>\n",
       "      <th>0</th>\n",
       "      <td>400 Years of African-American History Commission</td>\n",
       "      <td>N/A</td>\n",
       "      <td>32.0</td>\n",
       "      <td>N/A</td>\n",
       "    </tr>\n",
       "    <tr>\n",
       "      <th>1</th>\n",
       "      <td>Access Board</td>\n",
       "      <td>106.0</td>\n",
       "      <td>119.0</td>\n",
       "      <td>12.264151</td>\n",
       "    </tr>\n",
       "    <tr>\n",
       "      <th>2</th>\n",
       "      <td>Administrative Conference of the United States</td>\n",
       "      <td>35.0</td>\n",
       "      <td>36.0</td>\n",
       "      <td>2.857143</td>\n",
       "    </tr>\n",
       "    <tr>\n",
       "      <th>3</th>\n",
       "      <td>Advisory Council on Historic Preservation</td>\n",
       "      <td>82.0</td>\n",
       "      <td>108.0</td>\n",
       "      <td>31.707317</td>\n",
       "    </tr>\n",
       "    <tr>\n",
       "      <th>4</th>\n",
       "      <td>Affordable Housing Program</td>\n",
       "      <td>3313.0</td>\n",
       "      <td>2506.0</td>\n",
       "      <td>-24.358587</td>\n",
       "    </tr>\n",
       "    <tr>\n",
       "      <th>...</th>\n",
       "      <td>...</td>\n",
       "      <td>...</td>\n",
       "      <td>...</td>\n",
       "      <td>...</td>\n",
       "    </tr>\n",
       "    <tr>\n",
       "      <th>129</th>\n",
       "      <td>United Mine Workers of America Benefit Funds</td>\n",
       "      <td>86.0</td>\n",
       "      <td>5072.0</td>\n",
       "      <td>5797.674419</td>\n",
       "    </tr>\n",
       "    <tr>\n",
       "      <th>130</th>\n",
       "      <td>United States Court of Appeals for Veterans Cl...</td>\n",
       "      <td>447.0</td>\n",
       "      <td>589.0</td>\n",
       "      <td>31.767338</td>\n",
       "    </tr>\n",
       "    <tr>\n",
       "      <th>131</th>\n",
       "      <td>United States Holocaust Memorial Museum</td>\n",
       "      <td>692.0</td>\n",
       "      <td>734.0</td>\n",
       "      <td>6.069364</td>\n",
       "    </tr>\n",
       "    <tr>\n",
       "      <th>132</th>\n",
       "      <td>United States Institute of Peace</td>\n",
       "      <td>497.0</td>\n",
       "      <td>619.0</td>\n",
       "      <td>24.547284</td>\n",
       "    </tr>\n",
       "    <tr>\n",
       "      <th>133</th>\n",
       "      <td>United States Interagency Council on Homelessness</td>\n",
       "      <td>46.0</td>\n",
       "      <td>48.0</td>\n",
       "      <td>4.347826</td>\n",
       "    </tr>\n",
       "  </tbody>\n",
       "</table>\n",
       "<p>134 rows × 4 columns</p>\n",
       "</div>"
      ],
      "text/plain": [
       "                                                Agency   22-31   25-34  \\\n",
       "0     400 Years of African-American History Commission     N/A    32.0   \n",
       "1                                         Access Board   106.0   119.0   \n",
       "2       Administrative Conference of the United States    35.0    36.0   \n",
       "3            Advisory Council on Historic Preservation    82.0   108.0   \n",
       "4                           Affordable Housing Program  3313.0  2506.0   \n",
       "..                                                 ...     ...     ...   \n",
       "129       United Mine Workers of America Benefit Funds    86.0  5072.0   \n",
       "130  United States Court of Appeals for Veterans Cl...   447.0   589.0   \n",
       "131            United States Holocaust Memorial Museum   692.0   734.0   \n",
       "132                   United States Institute of Peace   497.0   619.0   \n",
       "133  United States Interagency Council on Homelessness    46.0    48.0   \n",
       "\n",
       "    percent_change  \n",
       "0              N/A  \n",
       "1        12.264151  \n",
       "2         2.857143  \n",
       "3        31.707317  \n",
       "4       -24.358587  \n",
       "..             ...  \n",
       "129    5797.674419  \n",
       "130      31.767338  \n",
       "131       6.069364  \n",
       "132      24.547284  \n",
       "133       4.347826  \n",
       "\n",
       "[134 rows x 4 columns]"
      ]
     },
     "execution_count": 27,
     "metadata": {},
     "output_type": "execute_result"
    }
   ],
   "source": [
    "#MERGE\n",
    "merged = pd.merge(cbo21_ot, cbo_ot, on=\"Agency\", how=\"right\")\n",
    "merged['percent_change'] = ((merged['25-34'] - merged['22-31']) / abs(merged['22-31'])) * 100\n",
    "merged['22-31'] = merged['22-31'].fillna('N/A')\n",
    "merged['percent_change'] = merged['percent_change'].fillna('N/A')\n",
    "merged.reset_index(inplace=True)\n",
    "merged"
   ]
  },
  {
   "cell_type": "code",
   "execution_count": 26,
   "metadata": {},
   "outputs": [
    {
     "data": {
      "text/html": [
       "<div>\n",
       "<style scoped>\n",
       "    .dataframe tbody tr th:only-of-type {\n",
       "        vertical-align: middle;\n",
       "    }\n",
       "\n",
       "    .dataframe tbody tr th {\n",
       "        vertical-align: top;\n",
       "    }\n",
       "\n",
       "    .dataframe thead th {\n",
       "        text-align: right;\n",
       "    }\n",
       "</style>\n",
       "<table border=\"1\" class=\"dataframe\">\n",
       "  <thead>\n",
       "    <tr style=\"text-align: right;\">\n",
       "      <th></th>\n",
       "      <th>Agency</th>\n",
       "      <th>22-31</th>\n",
       "      <th>25-34</th>\n",
       "      <th>percent_change</th>\n",
       "    </tr>\n",
       "  </thead>\n",
       "  <tbody>\n",
       "    <tr>\n",
       "      <th>5</th>\n",
       "      <td>Allowances</td>\n",
       "      <td>0.0</td>\n",
       "      <td>-107233.0</td>\n",
       "      <td>-inf</td>\n",
       "    </tr>\n",
       "    <tr>\n",
       "      <th>21</th>\n",
       "      <td>Council of the Inspectors General on Integrity...</td>\n",
       "      <td>0.0</td>\n",
       "      <td>18.0</td>\n",
       "      <td>inf</td>\n",
       "    </tr>\n",
       "    <tr>\n",
       "      <th>61</th>\n",
       "      <td>Federal Retirement Thrift Investment Board</td>\n",
       "      <td>0.0</td>\n",
       "      <td>-264.0</td>\n",
       "      <td>-inf</td>\n",
       "    </tr>\n",
       "  </tbody>\n",
       "</table>\n",
       "</div>"
      ],
      "text/plain": [
       "                                               Agency 22-31     25-34  \\\n",
       "5                                          Allowances   0.0 -107233.0   \n",
       "21  Council of the Inspectors General on Integrity...   0.0      18.0   \n",
       "61         Federal Retirement Thrift Investment Board   0.0    -264.0   \n",
       "\n",
       "   percent_change  \n",
       "5            -inf  \n",
       "21            inf  \n",
       "61           -inf  "
      ]
     },
     "execution_count": 26,
     "metadata": {},
     "output_type": "execute_result"
    }
   ],
   "source": [
    "inf_values = merged[merged['percent_change'].isin([float('inf'), float('-inf')])]\n",
    "inf_values"
   ]
  },
  {
   "cell_type": "code",
   "execution_count": 29,
   "metadata": {},
   "outputs": [],
   "source": [
    "sheetname = \"agency increases\"\n",
    "filename = \"output/cbo_projection_changes.xlsx\"\n",
    "df = merged\n",
    "with pd.ExcelWriter(filename, mode='a', engine=\"openpyxl\") as writer:\n",
    "    df.to_excel(writer, sheet_name=sheetname, index=False)"
   ]
  }
 ],
 "metadata": {
  "kernelspec": {
   "display_name": "Python 3",
   "language": "python",
   "name": "python3"
  },
  "language_info": {
   "codemirror_mode": {
    "name": "ipython",
    "version": 3
   },
   "file_extension": ".py",
   "mimetype": "text/x-python",
   "name": "python",
   "nbconvert_exporter": "python",
   "pygments_lexer": "ipython3",
   "version": "3.12.2"
  }
 },
 "nbformat": 4,
 "nbformat_minor": 2
}

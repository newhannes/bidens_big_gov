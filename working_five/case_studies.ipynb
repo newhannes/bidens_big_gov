{
 "cells": [
  {
   "cell_type": "code",
   "execution_count": 1,
   "metadata": {},
   "outputs": [],
   "source": [
    "#IDENTIFY THE 6 AGENCY CASE STUDIES\n",
    "import pandas as pd"
   ]
  },
  {
   "cell_type": "code",
   "execution_count": 3,
   "metadata": {},
   "outputs": [],
   "source": [
    "agency = pd.read_excel('output/cbo_projection_changes.xlsx', sheet_name=\"agency increases\")\n",
    "programs = pd.read_excel('output/cbo_projection_changes.xlsx', sheet_name=\"top three programs by agency\")"
   ]
  },
  {
   "cell_type": "code",
   "execution_count": 13,
   "metadata": {},
   "outputs": [],
   "source": [
    "case_studies = [\"Department of Agriculture\", \"Department of Commerce\", \"Department of Labor\", 'Department of the Treasury', \"Department of Transportation\", \"Environmental Protection Agency\"]\n",
    "agency_cs = agency[agency['Agency'].isin(case_studies)]"
   ]
  },
  {
   "cell_type": "code",
   "execution_count": 12,
   "metadata": {},
   "outputs": [],
   "source": [
    "program_cs = programs[programs['Agency'].isin(case_studies)]"
   ]
  },
  {
   "cell_type": "code",
   "execution_count": 15,
   "metadata": {},
   "outputs": [
    {
     "name": "stderr",
     "output_type": "stream",
     "text": [
      "c:\\Users\\DSikkink\\AppData\\Local\\Programs\\Python\\Python312\\Lib\\site-packages\\openpyxl\\workbook\\child.py:99: UserWarning: Title is more than 31 characters. Some applications may not be able to read the file\n",
      "  warnings.warn(\"Title is more than 31 characters. Some applications may not be able to read the file\")\n"
     ]
    }
   ],
   "source": [
    "sheetname = \"case studies increases by program\"\n",
    "filename = \"output/cbo_projection_changes.xlsx\"\n",
    "df = program_cs\n",
    "with pd.ExcelWriter(filename, mode='a', engine=\"openpyxl\") as writer:\n",
    "    df.to_excel(writer, sheet_name=sheetname, index=False)"
   ]
  }
 ],
 "metadata": {
  "kernelspec": {
   "display_name": "Python 3",
   "language": "python",
   "name": "python3"
  },
  "language_info": {
   "codemirror_mode": {
    "name": "ipython",
    "version": 3
   },
   "file_extension": ".py",
   "mimetype": "text/x-python",
   "name": "python",
   "nbconvert_exporter": "python",
   "pygments_lexer": "ipython3",
   "version": "3.12.2"
  }
 },
 "nbformat": 4,
 "nbformat_minor": 2
}

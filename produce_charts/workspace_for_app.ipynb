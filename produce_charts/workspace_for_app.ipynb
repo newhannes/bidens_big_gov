{
 "cells": [
  {
   "cell_type": "code",
   "execution_count": 2,
   "metadata": {},
   "outputs": [],
   "source": [
    "#USED TO DEVELOP THE APP but not to deploy the app\n",
    "import os\n",
    "import pandas as pd\n",
    "import numpy as np\n",
    "import seaborn as sns\n",
    "import matplotlib.pyplot as plt\n",
    "from matplotlib import ticker\n",
    "path = r\"C:\\Users\\DSikkink\\OneDrive - US House of Representatives\\Python\\Biden's Big Gov\\output\""
   ]
  },
  {
   "cell_type": "code",
   "execution_count": 2,
   "metadata": {},
   "outputs": [],
   "source": [
    "### STEP ONE: load data ###\n",
    "#@st.cache_data\n",
    "path = r\"C:\\Users\\DSikkink\\OneDrive - US House of Representatives\\Python\\Biden's Big Gov\\output\"\n",
    "df = pd.read_excel(os.path.join(path, 'agency_outlays.xlsx')) \n",
    "\n",
    "### STEP TWO: charts ###\n",
    "\n",
    "def linechart_maker(agency):\n",
    "    df_agency = df[df['agency'] == agency]\n",
    "    df_agency = df_agency.sort_values(by=['source','year'])\n",
    "    df_agency['outlays'] = df_agency['outlays'] / 1000 #convert to billions\n",
    "    sns.set_style('whitegrid')\n",
    "    #plt.rcParams['font.family'] = 'Playfair Display'  \n",
    "    plt.figure(figsize=(12, 5.3))\n",
    "    palette = {'CBO21': '#967D4A', 'CBO24': '#84AE95', 'OMB': '#000000'}\n",
    "    lineplot = sns.lineplot(data=df_agency, x='year', y='outlays', hue='source', palette=palette, linewidth=3.4)\n",
    "    plt.title(f'{agency} \\n Outlay Projections Before Biden vs. Now', weight='bold', fontsize=16)\n",
    "    plt.ylabel('Outlays \\n (billions of $)')\n",
    "    plt.xlabel('Fiscal Year')\n",
    "    plt.legend(bbox_to_anchor=(0.5, -0.15), loc='upper center', ncol=3)\n",
    "    lineplot.grid(False, 'both', 'x')\n",
    "    legend = lineplot.get_legend() # Get the current legend\n",
    "    legend.set_title('') # Remove the legend title\n",
    "    for t, l in zip(legend.texts, ('CBO 2021 Projection', 'CBO 2024 Projection', 'Actual Outlays')): # Rename the legend labels\n",
    "        t.set_text(l)\n",
    "    \n",
    "    plt.gca().yaxis.set_major_formatter(ticker.FuncFormatter(lambda x, pos: f'${x:.0f}'))\n",
    "    sns.despine(offset=15, left=True)\n",
    "    plt.show()"
   ]
  },
  {
   "cell_type": "code",
   "execution_count": null,
   "metadata": {},
   "outputs": [],
   "source": [
    "agency_counts = df['agency'].value_counts()\n",
    "agencies_to_drop = agency_counts[agency_counts != 51].index\n",
    "print(type(agencies_to_drop))\n",
    "df_filtered = df[~df['agency'].isin(agencies_to_drop)].query('agency != \"Allowances\"')\n",
    "df_filtered.query(\"agency == 'Allowances'\")"
   ]
  },
  {
   "cell_type": "code",
   "execution_count": 62,
   "metadata": {},
   "outputs": [],
   "source": [
    "cs_increase_programs = pd.read_excel(os.path.join(path, 'program_increases.xlsx'), sheet_name=\"case studies\")\n",
    "cs_increase_programs[cs_increase_programs[\"Agency\"] == \"Environmental Protection Agency\"]"
   ]
  },
  {
   "cell_type": "code",
   "execution_count": null,
   "metadata": {},
   "outputs": [],
   "source": [
    "def barchart_maker(agency):\n",
    "    plt.figure(figsize=(12, 5.3))\n",
    "    sns.set_style('white')\n",
    "    barchart_df = cs_increase_programs[cs_increase_programs['Agency'] == agency]\n",
    "    barchart_df = pd.melt(barchart_df, id_vars='Title', value_vars=['22-31', '25-34'], var_name='10-year Projections', value_name='Value').sort_values(by=[\"10-year Projections\"], ascending=True)\n",
    "    barchart_df['Value'] = barchart_df['Value'] / 1000\n",
    "    print(barchart_df)\n",
    "    barchart = sns.barplot(data=barchart_df, x='Title', y='Value', hue='10-year Projections', palette={'22-31': '#84AE95', '25-34': '#004647'})\n",
    "    plt.title(f'{agency} \\n 10-Year Outlay Increases by Program', weight='bold', fontsize=16)\n",
    "    plt.ylabel('Outlay Increase \\n (in billions)')\n",
    "    plt.xlabel('')\n",
    "    sns.despine()\n",
    "    plt.gca().yaxis.set_major_formatter(ticker.FuncFormatter(lambda x, pos: f'${x:,.0f}'))\n",
    "    \n",
    "# Add text above each bar\n",
    "    for p in barchart.patches:\n",
    "        barchart.text(p.get_x() + p.get_width() / 2., p.get_height(), f'${p.get_height():,.0f}',\n",
    "                      ha='center', va='bottom', color=p.get_facecolor())\n",
    "\n",
    "\n",
    "    legend = barchart.get_legend()\n",
    "    legend.set_title('')\n",
    "    for t, l in zip(legend.texts, ('2021 Projection', '2024 Projection')):\n",
    "        t.set_text(l)\n",
    "    plt.show()\n",
    "\n",
    "barchart_maker('Department of Transportation')"
   ]
  },
  {
   "cell_type": "code",
   "execution_count": null,
   "metadata": {},
   "outputs": [],
   "source": [
    "def barchart_maker(agency):\n",
    "    fig, ax = plt.subplots(figsize=(12, 5.3))\n",
    "    sns.set_style('white')\n",
    "    barchart_df = cs_increase_programs[cs_increase_programs['Agency'] == agency]\n",
    "    barchart_df = pd.melt(barchart_df, id_vars='Title', value_vars=['22-31', '25-34'], var_name='10-year Projections', value_name='Value').sort_values(by=[\"10-year Projections\"], ascending=True)\n",
    "    barchart_df['Value'] = barchart_df['Value'] / 1000\n",
    "    barchart = sns.barplot(data=barchart_df, x='Title', y='Value', hue='10-year Projections', palette={'22-31': '#84AE95', '25-34': '#004647'}, ax=ax)\n",
    "    plt.title(f'{agency} \\n 10-Year Outlay Increases by Program', weight='bold', fontsize=16)\n",
    "    plt.ylabel('Outlay Increase \\n (in billions)')\n",
    "    plt.xlabel('')\n",
    "    sns.despine()\n",
    "    plt.gca().yaxis.set_major_formatter(ticker.FuncFormatter(lambda x, pos: f'${x:,.0f}'))\n",
    "    def autolabel(rects):\n",
    "        for i, rect in enumerate(rects):\n",
    "            height = rect.get_height()\n",
    "            print(f\"Patch {i}: x={rect.get_x()}, width={rect.get_width()}, height={height}\")\n",
    "            if height > 0:  # only add text if the height is greater than 0\n",
    "                ax.text(rect.get_x() + rect.get_width() / 2., 0.2 * height,\n",
    "                    height,\n",
    "                    ha='center', va='bottom', color='black')\n",
    "\n",
    "    autolabel(ax.patches)\n",
    "\n",
    "\n",
    "    legend = barchart.get_legend()\n",
    "    legend.set_title('')\n",
    "    for t, l in zip(legend.texts, ('2021 Projection', '2024 Projection')):\n",
    "        t.set_text(l)\n",
    "    plt.show()\n",
    "\n",
    "barchart_maker('Department of Transportation')"
   ]
  },
  {
   "cell_type": "code",
   "execution_count": 25,
   "metadata": {},
   "outputs": [
    {
     "data": {
      "text/html": [
       "<div>\n",
       "<style scoped>\n",
       "    .dataframe tbody tr th:only-of-type {\n",
       "        vertical-align: middle;\n",
       "    }\n",
       "\n",
       "    .dataframe tbody tr th {\n",
       "        vertical-align: top;\n",
       "    }\n",
       "\n",
       "    .dataframe thead th {\n",
       "        text-align: right;\n",
       "    }\n",
       "</style>\n",
       "<table border=\"1\" class=\"dataframe\">\n",
       "  <thead>\n",
       "    <tr style=\"text-align: right;\">\n",
       "      <th></th>\n",
       "      <th>Agency</th>\n",
       "      <th>22-31</th>\n",
       "      <th>25-34</th>\n",
       "      <th>percent_change</th>\n",
       "    </tr>\n",
       "  </thead>\n",
       "  <tbody>\n",
       "    <tr>\n",
       "      <th>20</th>\n",
       "      <td>Corps of Engineers--Civil Works</td>\n",
       "      <td>94051.0</td>\n",
       "      <td>119145</td>\n",
       "      <td>26.681269</td>\n",
       "    </tr>\n",
       "  </tbody>\n",
       "</table>\n",
       "</div>"
      ],
      "text/plain": [
       "                             Agency    22-31   25-34  percent_change\n",
       "20  Corps of Engineers--Civil Works  94051.0  119145       26.681269"
      ]
     },
     "execution_count": 25,
     "metadata": {},
     "output_type": "execute_result"
    }
   ],
   "source": [
    "agencies = pd.read_excel(os.path.join(path, 'cbo_projection_changes.xlsx'), sheet_name=\"agency increases\").query(\"percent_change > 0\")\n",
    "agencies[agencies['Agency'] == 'Defense Nuclear Facilities Safety Board']\n",
    "\n",
    "case = agencies[agencies['Agency'] == 'Defense Nuclear Facilities Safety Board']\n",
    "cs_21 = f\"${int(round(case['22-31'].values[0] / 1000, 0)):,}\"\n",
    "cs_24 = f\"${int(round(case['25-34'].values[0] / 1000,0)):,}\"\n",
    "cs_pct = f\"{round(case['percent_change'].values[0])}%\"\n",
    "\n",
    "# print(cs_21, cs_24, cs_pct)\n",
    "# print(case['22-31'].values[0])\n",
    "# print(case['25-34'].values[0])\n",
    "\n",
    "agencies.query(\"Agency == 'Corps of Engineers--Civil Works'\")"
   ]
  }
 ],
 "metadata": {
  "kernelspec": {
   "display_name": "Python 3",
   "language": "python",
   "name": "python3"
  },
  "language_info": {
   "codemirror_mode": {
    "name": "ipython",
    "version": 3
   },
   "file_extension": ".py",
   "mimetype": "text/x-python",
   "name": "python",
   "nbconvert_exporter": "python",
   "pygments_lexer": "ipython3",
   "version": "3.12.2"
  }
 },
 "nbformat": 4,
 "nbformat_minor": 2
}

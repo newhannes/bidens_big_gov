{
 "cells": [
  {
   "cell_type": "code",
   "execution_count": 6,
   "metadata": {},
   "outputs": [],
   "source": [
    "#CODE TO GET NUMBERS NEEDED\n",
    "import pandas as pd\n",
    "import os\n",
    "from datetime import date, datetime\n",
    "import requests"
   ]
  },
  {
   "cell_type": "code",
   "execution_count": 16,
   "metadata": {},
   "outputs": [],
   "source": [
    "#setup\n",
    "billion = 1000000000"
   ]
  },
  {
   "cell_type": "code",
   "execution_count": 21,
   "metadata": {},
   "outputs": [],
   "source": [
    "# FEB 2021 CBO projections\n",
    "tenyr_ots = 61234 * billion\n",
    "tenyr_ots_pct = 21.9"
   ]
  },
  {
   "cell_type": "code",
   "execution_count": 20,
   "metadata": {},
   "outputs": [
    {
     "name": "stdout",
     "output_type": "stream",
     "text": [
      "10 year outlays: 82,664,611\n"
     ]
    }
   ],
   "source": [
    "#MOST RECENT CBO PROJECTIONS\n",
    "#10 year outlays total (dollar and % of GDP)\n",
    "currentyr = 2024\n",
    "years = [i for i in range(currentyr, currentyr+11)] \n",
    "cbo_ot = pd.read_excel('data/cbo-2024-02-Spending-Projections.xlsx', header=7, sheet_name=1)\n",
    "cbo_ot = cbo_ot[[col for col in cbo_ot.columns if col not in years]] #remove the BA cols\n",
    "cbo_ot.columns = cbo_ot.columns.str.replace('.1', '') #clean col name\n",
    "current_10yr = [str(yr) for yr in years[1:]] #first year is the current year\n",
    "\n",
    "TOTAL_10yr_OTs = cbo_ot[current_10yr].sum().sum() #in millions of dollars\n",
    "print(f'10 year outlays: {TOTAL_10yr_OTs:,.0f}')"
   ]
  },
  {
   "cell_type": "code",
   "execution_count": 22,
   "metadata": {},
   "outputs": [
    {
     "name": "stdout",
     "output_type": "stream",
     "text": [
      "DEFICITS\n",
      "10 year deficits: -20,016\n",
      "10 year deficits as % of GDP: -5.683\n",
      "\n",
      "\n",
      "INTEREST PAYMENTS\n",
      "10 year interest payments: 12,435\n",
      "10 year interest payments as % of GDP: 3.53\n"
     ]
    }
   ],
   "source": [
    "#10 year deficits\n",
    "cbo_baseline = pd.read_excel('data/cbo-2024-02-Budget-Projections.xlsx', header=6, sheet_name=1, usecols='A:O').set_index('Unnamed: 0')\n",
    "\n",
    "total_deficits = cbo_baseline.loc[\"Total deficit (-)\", \"2025–\\n2034\"]\n",
    "dollar_def = total_deficits.iloc[0]\n",
    "pct_def = total_deficits.iloc[1]\n",
    "print(\"DEFICITS\")\n",
    "print(f'10 year deficits: {dollar_def:,.0f}')\n",
    "print(f'10 year deficits as % of GDP: {pct_def}')\n",
    "#10 year interest payments\n",
    "interest = cbo_baseline.loc[\"Net interest\", \"2025–\\n2034\"]\n",
    "dollar_int = interest.iloc[0]\n",
    "pct_int = interest.iloc[1]\n",
    "print(\"\\n\")\n",
    "print(\"INTEREST PAYMENTS\")\n",
    "print(f'10 year interest payments: {dollar_int:,.0f}')\n",
    "print(f'10 year interest payments as % of GDP: {pct_int:,.2f}')"
   ]
  },
  {
   "cell_type": "code",
   "execution_count": 24,
   "metadata": {},
   "outputs": [
    {
     "name": "stdout",
     "output_type": "stream",
     "text": [
      "Debt increase since Biden took office: 6.8 trillion\n",
      "\n",
      "\n"
     ]
    },
    {
     "name": "stderr",
     "output_type": "stream",
     "text": [
      "C:\\Users\\DSikkink\\AppData\\Local\\Temp\\ipykernel_23692\\2589599633.py:18: SettingWithCopyWarning: \n",
      "A value is trying to be set on a copy of a slice from a DataFrame.\n",
      "Try using .loc[row_indexer,col_indexer] = value instead\n",
      "\n",
      "See the caveats in the documentation: https://pandas.pydata.org/pandas-docs/stable/user_guide/indexing.html#returning-a-view-versus-a-copy\n",
      "  bidenadmin[\"tot_pub_debt_out_amt\"] = bidenadmin[\"tot_pub_debt_out_amt\"].astype(float)\n"
     ]
    }
   ],
   "source": [
    "#Increase in debt since Biden took office (Kole's code)\n",
    "thisyear = date.today().year\n",
    "today = date.today()\n",
    "\n",
    "p = requests.get('https://api.fiscaldata.treasury.gov/services/api/fiscal_service/v2/accounting/od/debt_to_penny?page[size]=10000')\n",
    "data = p.json()\n",
    "df = pd.DataFrame(data['data'])\n",
    "\n",
    "bidenadmin = df.iloc[6973:]\n",
    "currentdate = bidenadmin[\"record_date\"].iloc[-1]\n",
    "bidenstart = '2021-1-20'\n",
    "\n",
    "dt1 = datetime.strptime(bidenstart, \"%Y-%m-%d\")\n",
    "dt2 = datetime.strptime(currentdate, \"%Y-%m-%d\")\n",
    "\n",
    "since_biden = (dt2 - dt1).days\n",
    "\n",
    "bidenadmin[\"tot_pub_debt_out_amt\"] = bidenadmin[\"tot_pub_debt_out_amt\"].astype(float)\n",
    "\n",
    "bidenstartdebt = bidenadmin[\"tot_pub_debt_out_amt\"].iloc[0]\n",
    "currentdebt = bidenadmin[\"tot_pub_debt_out_amt\"].iloc[-1]\n",
    "\n",
    "bidenstartdebtrd = round(bidenstartdebt/1000000000000,2)\n",
    "currentdebtrd = round(currentdebt/1000000000000,2)\n",
    "\n",
    "newdebt = currentdebtrd - bidenstartdebtrd\n",
    "\n",
    "print(f'Debt increase since Biden took office: {round(newdebt,3)} trillion')\n",
    "print('\\n')"
   ]
  },
  {
   "cell_type": "code",
   "execution_count": null,
   "metadata": {},
   "outputs": [],
   "source": [
    "#MOST RECENT BLS DATA\n",
    "#Biden-flation\n",
    "#food, energy, housing prices\n",
    "#family changes in costs\n",
    "#10-year Treasury yield\n",
    "#JUST RUN KOLE'S CODE"
   ]
  },
  {
   "cell_type": "code",
   "execution_count": null,
   "metadata": {},
   "outputs": [],
   "source": [
    "#IMPROPER PAYMENTS\n",
    "#dollar and percentage of total outlays\n"
   ]
  }
 ],
 "metadata": {
  "kernelspec": {
   "display_name": "Python 3",
   "language": "python",
   "name": "python3"
  },
  "language_info": {
   "codemirror_mode": {
    "name": "ipython",
    "version": 3
   },
   "file_extension": ".py",
   "mimetype": "text/x-python",
   "name": "python",
   "nbconvert_exporter": "python",
   "pygments_lexer": "ipython3",
   "version": "3.12.2"
  }
 },
 "nbformat": 4,
 "nbformat_minor": 2
}

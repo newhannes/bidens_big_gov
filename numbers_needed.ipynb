{
 "cells": [
  {
   "cell_type": "code",
   "execution_count": 2,
   "metadata": {},
   "outputs": [],
   "source": [
    "#CODE TO GET NUMBERS NEEDED\n",
    "import pandas as pd\n",
    "import os\n",
    "from datetime import date, datetime\n",
    "import requests\n",
    "\n",
    "#NUMBERS NEEDED:\n",
    "### INTRO\n",
    "#1a. Spending under biden\n",
    "    #b. Biden spending as result of executive actions and rulemaking\n",
    "#2a. Projected 10 yr outlays NOW \n",
    "    #b. increase since FEB21 projections\n",
    "    #c. increase in outlays as percent GDP\n",
    "\n",
    "### 5 REASONS TO CARE\n",
    "#3a. revenue increases since TCJA\n",
    "    #b. revenues higher than projected before Biden took office?\n",
    "#4a. Debt increase under biden\n",
    "    #b. debt increase on 10yr \n",
    "    #c. 10yr deficits\n",
    "#5a. interest payments on debt 10yr\n",
    "#6a. inflations numbers\n",
    "#7a. improper payment numbers\n"
   ]
  },
  {
   "cell_type": "code",
   "execution_count": 87,
   "metadata": {},
   "outputs": [
    {
     "name": "stdout",
     "output_type": "stream",
     "text": [
      "10 year outlays (FEB21): 61,234,000,000,000\n",
      "10 year deficits (FEB21): - 12,266,000,000,000\n",
      "10 year interest payments (FEB21): 4,554,000,000,000\n"
     ]
    }
   ],
   "source": [
    "#setup\n",
    "billion = 1000000000\n",
    "#FEB 2021 CBO projections\n",
    "tenyr_ots_21 = 61234 * billion\n",
    "tenyr_ots_pct_21 = 21.9\n",
    "feb21_10yrdeficits = 12266 * billion\n",
    "feb21_10yrinterest = 4554 * billion\n",
    "print(f\"10 year outlays (FEB21): {tenyr_ots_21:,.0f}\")\n",
    "print(f\"10 year deficits (FEB21): - {feb21_deficits:,.0f}\")\n",
    "print(f\"10 year interest payments (FEB21): {feb21_10yrinterest:,.0f}\")"
   ]
  },
  {
   "cell_type": "code",
   "execution_count": 41,
   "metadata": {},
   "outputs": [
    {
     "name": "stdout",
     "output_type": "stream",
     "text": [
      "NUMBER 1A -\n",
      "NUMBER 1B -\n"
     ]
    }
   ],
   "source": [
    "### NUMBER 1: SPENDING UNDER BIDEN EXECUTIVE ###\n",
    "print(\"NUMBER 1A -\")\n",
    "print(\"NUMBER 1B -\")"
   ]
  },
  {
   "cell_type": "code",
   "execution_count": 56,
   "metadata": {},
   "outputs": [
    {
     "name": "stdout",
     "output_type": "stream",
     "text": [
      "NUMBER 2A - 10 year outlays (FEB24): 82,664,611,000,000\n",
      "NUMBER 2B - 10 year outlays increase since FEB2021: 21,430,611,000,000 dollars, 35.0% more\n",
      "NUMBER 2C - 10 year outlays as percent of GDP: _________ \n"
     ]
    }
   ],
   "source": [
    "### NUMBER 2: MOST RECENT CBO PROJECTIONS ###\n",
    "#10 year outlays 25-34\n",
    "currentyr = 2024\n",
    "years = [i for i in range(currentyr, currentyr+11)] \n",
    "cbo_ot = pd.read_excel('data/cbo-2024-02-Spending-Projections.xlsx', header=7, sheet_name=1)\n",
    "cbo_ot = cbo_ot[[col for col in cbo_ot.columns if col not in years]] #remove the BA cols\n",
    "cbo_ot.columns = cbo_ot.columns.str.replace('.1', '') #clean col name\n",
    "current_10yr = [str(yr) for yr in years[1:]] #first year is the current year (2024)\n",
    "TOTAL_10yr_OTs = cbo_ot[current_10yr].sum().sum() * 1000000 #in trillions of dollars\n",
    "print(f'NUMBER 2A - 10 year outlays (FEB24): {TOTAL_10yr_OTs:,.0f}')\n",
    "print(f'NUMBER 2B - 10 year outlays increase since FEB2021: {TOTAL_10yr_OTs - tenyr_ots_21:,.0f} dollars, {round((TOTAL_10yr_OTs - tenyr_ots_21) / tenyr_ots_21 * 100, 2)}% more')\n",
    "print(f'NUMBER 2C - 10 year outlays as percent of GDP: _________ ')"
   ]
  },
  {
   "cell_type": "code",
   "execution_count": 40,
   "metadata": {},
   "outputs": [
    {
     "name": "stdout",
     "output_type": "stream",
     "text": [
      "NUMBER 3A -\n",
      "NUMBER 3B -\n"
     ]
    }
   ],
   "source": [
    "### NUMBER 3: REVENUE INCREASES SINCE TCJA ###\n",
    "print(\"NUMBER 3A -\")\n",
    "print(\"NUMBER 3B -\")"
   ]
  },
  {
   "cell_type": "code",
   "execution_count": 48,
   "metadata": {},
   "outputs": [
    {
     "name": "stderr",
     "output_type": "stream",
     "text": [
      "C:\\Users\\DSikkink\\AppData\\Local\\Temp\\ipykernel_1736\\1146980580.py:23: SettingWithCopyWarning: \n",
      "A value is trying to be set on a copy of a slice from a DataFrame.\n",
      "Try using .loc[row_indexer,col_indexer] = value instead\n",
      "\n",
      "See the caveats in the documentation: https://pandas.pydata.org/pandas-docs/stable/user_guide/indexing.html#returning-a-view-versus-a-copy\n",
      "  bidenadmin[\"tot_pub_debt_out_amt\"] = bidenadmin[\"tot_pub_debt_out_amt\"].astype(float)\n"
     ]
    }
   ],
   "source": [
    "### NUMBER 4: DEBT INCREASE UNDER BIDEN ###\n",
    "#Increase in debt since Biden took office (Kole's code, simplified a touch) \n",
    "\n",
    "thisyear = date.today().year\n",
    "today = date.today()\n",
    "\n",
    "p = requests.get('https://api.fiscaldata.treasury.gov/services/api/fiscal_service/v2/accounting/od/debt_to_penny?page[size]=10000')\n",
    "data = p.json()\n",
    "df = pd.DataFrame(data['data'])\n",
    "\n",
    "bidenadmin = df.iloc[6973:]\n",
    "currentdate = bidenadmin[\"record_date\"].iloc[-1]\n",
    "bidenstart = '2021-1-20'\n",
    "\n",
    "dt1 = datetime.strptime(bidenstart, \"%Y-%m-%d\")\n",
    "dt2 = datetime.strptime(currentdate, \"%Y-%m-%d\")\n",
    "since_biden = (dt2 - dt1).days\n",
    "\n",
    "bidenadmin[\"tot_pub_debt_out_amt\"] = bidenadmin[\"tot_pub_debt_out_amt\"].astype(float)\n",
    "bidenstartdebtrd = round(bidenadmin[\"tot_pub_debt_out_amt\"].iloc[0]/1000000000000,2)\n",
    "currentdebtrd = round(bidenadmin[\"tot_pub_debt_out_amt\"].iloc[-1]/1000000000000,2)\n",
    "newdebt = currentdebtrd - bidenstartdebtrd\n",
    "debt_pct_increase = (currentdebtrd - bidenstartdebtrd)/bidenstartdebtrd * 100"
   ]
  },
  {
   "cell_type": "code",
   "execution_count": 85,
   "metadata": {},
   "outputs": [
    {
     "name": "stdout",
     "output_type": "stream",
     "text": [
      "NUMBER 4A - Debt increase since Biden took office: 6.85 trillion, 25.0% increase\n",
      "NUMBER 4B - Debt increase on 10yr: _________\n",
      "NUMBER 4C - 10 year deficits: - 20,016,094,000,000, -5.68% of GDP\n",
      "Increase in 10yr deficit projection: 7,750,094,000,000, 63.18% more\n"
     ]
    }
   ],
   "source": [
    "### NUMBER 4(c): 10 year deficits ###\n",
    "#10 year deficits\n",
    "cbo_baseline = pd.read_excel('data/cbo-2024-02-Budget-Projections.xlsx', header=6, sheet_name=1, usecols='A:O').set_index('Unnamed: 0')\n",
    "\n",
    "total_deficits = cbo_baseline.loc[\"Total deficit (-)\", \"2025–\\n2034\"]\n",
    "dollar_def = abs(total_deficits.iloc[0])*1000000000\n",
    "pct_def = total_deficits.iloc[1]\n",
    "\n",
    "print(f'NUMBER 4A - Debt increase since Biden took office: {round(newdebt,3)} trillion, {round(debt_pct_increase,0)}% increase')\n",
    "print(f'NUMBER 4B - Debt increase on 10yr: _________')\n",
    "print(f'NUMBER 4C - 10 year deficits: - {dollar_def:,.0f}, {pct_def:.2f}% of GDP')\n",
    "print(f'Increase in 10yr deficit projection: {(dollar_def - feb21_10yrdeficits):,.0f}, {round((abs(dollar_def) - abs(feb21_10yrdeficits)) / abs(feb21_10yrdeficits) * 100, 2)}% more')"
   ]
  },
  {
   "cell_type": "code",
   "execution_count": 88,
   "metadata": {},
   "outputs": [
    {
     "name": "stdout",
     "output_type": "stream",
     "text": [
      "NUMBER 5A - Interest Payments on Debt:\n",
      "10 year interest payments: 12,435,052,000,000\n",
      "10 year interest payments as % of GDP: 3.53\n",
      "Increase in 10yr interest payments: 7,881,052,000,000, 173.06% more\n"
     ]
    }
   ],
   "source": [
    "### NUMBER 5: INTEREST PAYMENTS ON DEBT ###\n",
    "#10 year interest payments\n",
    "interest = cbo_baseline.loc[\"Net interest\", \"2025–\\n2034\"]\n",
    "dollar_int = interest.iloc[0]*billion\n",
    "pct_int = interest.iloc[1]\n",
    "print(\"NUMBER 5A - Interest Payments on Debt:\")\n",
    "print(f'10 year interest payments: {dollar_int:,.0f}')\n",
    "print(f'10 year interest payments as % of GDP: {pct_int:,.2f}')\n",
    "print(f'Increase in 10yr interest payments: {(dollar_int - feb21_10yrinterest):,.0f}, {round((dollar_int - feb21_10yrinterest) / feb21_10yrinterest * 100, 2)}% more')"
   ]
  },
  {
   "cell_type": "code",
   "execution_count": null,
   "metadata": {},
   "outputs": [],
   "source": [
    "### NUMBER 6: INFLATION NUMBERS ###\n",
    "#just run Kole's code"
   ]
  },
  {
   "cell_type": "code",
   "execution_count": 50,
   "metadata": {},
   "outputs": [
    {
     "name": "stdout",
     "output_type": "stream",
     "text": [
      "NUMBER 7A - Improper Payment FY23: (235, 774.72)\n"
     ]
    }
   ],
   "source": [
    "### NUMBER 7: IMPROPER PAYMENT NUMBERS ###\n",
    "number7 =  235,774.72 #in millions\n",
    "print(\"NUMBER 7A - Improper Payment FY23:\", number7)"
   ]
  }
 ],
 "metadata": {
  "kernelspec": {
   "display_name": "Python 3",
   "language": "python",
   "name": "python3"
  },
  "language_info": {
   "codemirror_mode": {
    "name": "ipython",
    "version": 3
   },
   "file_extension": ".py",
   "mimetype": "text/x-python",
   "name": "python",
   "nbconvert_exporter": "python",
   "pygments_lexer": "ipython3",
   "version": "3.12.2"
  }
 },
 "nbformat": 4,
 "nbformat_minor": 2
}

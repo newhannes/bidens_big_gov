{
 "cells": [
  {
   "cell_type": "code",
   "execution_count": 4,
   "metadata": {},
   "outputs": [],
   "source": [
    "import pandas as pd\n",
    "import numpy as np"
   ]
  },
  {
   "cell_type": "code",
   "execution_count": 5,
   "metadata": {},
   "outputs": [],
   "source": [
    "#STEP ONE: read and clean the three sets of data (CBO21, CBO24, and OMB's outlays), reshape to long format, and concatenate them\n",
    "\n",
    "#CBO24\n",
    "years = [i for i in range(2024, 2024+11)] \n",
    "cbo_24 = pd.read_excel('../data/cbo-2024-02-Spending-Projections.xlsx', header=7, sheet_name=1)\n",
    "cbo_24 = cbo_24[[col for col in cbo_24.columns if col not in years]] #remove the BA cols\n",
    "cbo_24.columns = cbo_24.columns.str.replace('.1', '') #clean the OT cols\n",
    "cbo_24 = cbo_24.drop(columns=['Unnamed: 9', \"Unnamed: 21\", \"Off-Budget?\"]).drop(index=0).drop(cbo_24.index[-2:]) #drop the weird empty rows and the empty cols and offbud col\n",
    "cbo_24[\"Agency\"] = cbo_24[\"Agency\"].str.strip()\n",
    "years = [str(i) for i in years]\n",
    "cbo_24_agencies = cbo_24[['Agency'] + years].groupby(\"Agency\").sum().reset_index() #get sum of ots by agency\n",
    "cbo_24_agencies['source'] = 'CBO24'\n",
    "cbo_24_agencies[[str(year) for year in range(2018,2024)]] = np.nan #to make the concat work\n",
    "\n",
    "#CBO21 \n",
    "cbo_21 = pd.read_excel('../data/cbo-2021-02-11-spendingprojections.xlsx', header=7, sheet_name=1)\n",
    "years_21 = [i for i in range(2021, 2032)]\n",
    "cbo_21 = cbo_21[[col for col in cbo_21.columns if col not in years_21]].drop(columns=[\"Off-Budget?\", \"Unnamed: 9\", \"Unnamed: 21\"]) #remove the BA cols, unnamed and unnecessary columns\n",
    "cbo_21.columns = cbo_21.columns.str.replace('.1', '') #clean OT columns\n",
    "cbo_21[\"Agency\"] = cbo_21[\"Agency\"].str.strip()\n",
    "cbo_21['Agency'] = cbo_21['Agency'].replace('Other Defense Civil Programs', 'Other Defense--Civil Programs').replace(\"Committee for Purchase from People Who Are Blind or Severely Dis\", \"Committee for Purchase From People Who Are Blind/Disabled\" )\n",
    "years_21 = [str(i) for i in years_21]\n",
    "cbo_21_agencies = cbo_21[[\"Agency\"] + years_21].groupby(\"Agency\").sum().reset_index() #group by agency and sum the total\n",
    "cbo_21_agencies[\"source\"] = \"CBO21\"\n",
    "cbo_21_agencies[[\"2018\", \"2019\", \"2020\", \"2032\", \"2033\", \"2034\"]] = np.nan #to make the concat work\n",
    "\n",
    "#actual outlays (OMB)\n",
    "omb = pd.read_excel('../data/omb_ots_data.xlsx', header=2, sheet_name=\"Table\")\n",
    "actual_yrs = [str(i) for i in range(2018, 2024)]\n",
    "omb = omb[[\"Department or other unit\"] + actual_yrs]\n",
    "omb.rename(columns={\"Department or other unit\": \"Agency\"}, inplace=True)\n",
    "omb['source'] = 'OMB'\n",
    "omb[[str(year) for year in range(2024, 2035)]] = np.nan #to make the concat work\n",
    "\n",
    "#Reshape each dataframe to long format\n",
    "cbo21_long = cbo_21_agencies.melt(id_vars=['Agency', 'source'], var_name='year', value_name='outlays')\n",
    "cbo24_long = cbo_24_agencies.melt(id_vars=['Agency', 'source'], var_name='year', value_name='outlays')\n",
    "omb_long = omb.melt(id_vars=['Agency', 'source'], var_name='year', value_name='outlays')\n",
    "\n",
    "#Concatenate the reshaped dataframes\n",
    "df_long = pd.concat([cbo24_long, cbo21_long, omb_long], ignore_index=True).rename(columns={\"Agency\": \"agency\"})\n",
    "#filter the data to only include the agencies in the CBO24 data\n",
    "df_long = df_long[df_long['agency'].isin(cbo_24_agencies['Agency'])]\n",
    "# Get the 'outlays' values from 'OMB' for 2020 and 2022\n",
    "omb_2020_outlays = df_long.loc[(df_long['source'] == 'OMB') & (df_long['year'] == '2020'), ['agency', 'outlays']].set_index('agency')\n",
    "omb_2023_outlays = df_long.loc[(df_long['source'] == 'OMB') & (df_long['year'] == '2023'), ['agency', 'outlays']].set_index('agency')\n",
    "# Replace the 'outlays' values in 'CBO21' for 2020 and 'CBO24' for 2022 with the values from 'OMB'\n",
    "df_long.loc[(df_long['source'] == 'CBO21') & (df_long['year'] == '2020'), 'outlays'] = df_long.loc[(df_long['source'] == 'CBO21') & (df_long['year'] == '2020'), 'agency'].map(omb_2020_outlays['outlays'])\n",
    "df_long.loc[(df_long['source'] == 'CBO24') & (df_long['year'] == '2023'), 'outlays'] = df_long.loc[(df_long['source'] == 'CBO24') & (df_long['year'] == '2023'), 'agency'].map(omb_2023_outlays['outlays'])"
   ]
  },
  {
   "cell_type": "code",
   "execution_count": 8,
   "metadata": {},
   "outputs": [],
   "source": [
    "df_long.to_excel('../output/agency_outlays.xlsx', index=False)"
   ]
  }
 ],
 "metadata": {
  "kernelspec": {
   "display_name": "Python 3",
   "language": "python",
   "name": "python3"
  },
  "language_info": {
   "codemirror_mode": {
    "name": "ipython",
    "version": 3
   },
   "file_extension": ".py",
   "mimetype": "text/x-python",
   "name": "python",
   "nbconvert_exporter": "python",
   "pygments_lexer": "ipython3",
   "version": "3.12.2"
  }
 },
 "nbformat": 4,
 "nbformat_minor": 2
}

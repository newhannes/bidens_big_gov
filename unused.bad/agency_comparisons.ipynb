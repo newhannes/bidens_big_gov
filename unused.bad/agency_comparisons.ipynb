{
 "cells": [
  {
   "cell_type": "code",
   "execution_count": 2,
   "metadata": {},
   "outputs": [],
   "source": [
    "#CODE TO GET BUREAU LEVEL COMPARISONS (THIS WAS BEFORE I FULLY UNDERSTOOD PROJECT)\n",
    "import pandas as pd\n",
    "import os"
   ]
  },
  {
   "cell_type": "code",
   "execution_count": 76,
   "metadata": {},
   "outputs": [
    {
     "data": {
      "text/html": [
       "<div>\n",
       "<style scoped>\n",
       "    .dataframe tbody tr th:only-of-type {\n",
       "        vertical-align: middle;\n",
       "    }\n",
       "\n",
       "    .dataframe tbody tr th {\n",
       "        vertical-align: top;\n",
       "    }\n",
       "\n",
       "    .dataframe thead th {\n",
       "        text-align: right;\n",
       "    }\n",
       "</style>\n",
       "<table border=\"1\" class=\"dataframe\">\n",
       "  <thead>\n",
       "    <tr style=\"text-align: right;\">\n",
       "      <th></th>\n",
       "      <th>25-34</th>\n",
       "    </tr>\n",
       "    <tr>\n",
       "      <th>Agency-Bureau</th>\n",
       "      <th></th>\n",
       "    </tr>\n",
       "  </thead>\n",
       "  <tbody>\n",
       "    <tr>\n",
       "      <th>400 Years of African-American History Commission                BUREAU: 400 Years of African-American History Commission</th>\n",
       "      <td>32.0</td>\n",
       "    </tr>\n",
       "    <tr>\n",
       "      <th>Access Board                                                    BUREAU: Access Board</th>\n",
       "      <td>119.0</td>\n",
       "    </tr>\n",
       "    <tr>\n",
       "      <th>Administrative Conference of the United States                  BUREAU: Administrative Conference of the United States</th>\n",
       "      <td>36.0</td>\n",
       "    </tr>\n",
       "    <tr>\n",
       "      <th>Advisory Council on Historic Preservation                       BUREAU: Advisory Council on Historic Preservation</th>\n",
       "      <td>108.0</td>\n",
       "    </tr>\n",
       "    <tr>\n",
       "      <th>Affordable Housing Program                                      BUREAU: Affordable Housing Program</th>\n",
       "      <td>2506.0</td>\n",
       "    </tr>\n",
       "    <tr>\n",
       "      <th>...</th>\n",
       "      <td>...</td>\n",
       "    </tr>\n",
       "    <tr>\n",
       "      <th>United Mine Workers of America Benefit Funds                    BUREAU: United Mine Workers of America Benefit Funds</th>\n",
       "      <td>5072.0</td>\n",
       "    </tr>\n",
       "    <tr>\n",
       "      <th>United States Court of Appeals for Veterans Claims              BUREAU: United States Court of Appeals for Veterans Claims</th>\n",
       "      <td>589.0</td>\n",
       "    </tr>\n",
       "    <tr>\n",
       "      <th>United States Holocaust Memorial Museum                         BUREAU: United States Holocaust Memorial Museum</th>\n",
       "      <td>734.0</td>\n",
       "    </tr>\n",
       "    <tr>\n",
       "      <th>United States Institute of Peace                                BUREAU: United States Institute of Peace</th>\n",
       "      <td>619.0</td>\n",
       "    </tr>\n",
       "    <tr>\n",
       "      <th>United States Interagency Council on Homelessness               BUREAU: United States Interagency Council on Homelessness</th>\n",
       "      <td>48.0</td>\n",
       "    </tr>\n",
       "  </tbody>\n",
       "</table>\n",
       "<p>365 rows × 1 columns</p>\n",
       "</div>"
      ],
      "text/plain": [
       "                                                     25-34\n",
       "Agency-Bureau                                             \n",
       "400 Years of African-American History Commissio...    32.0\n",
       "Access Board                                   ...   119.0\n",
       "Administrative Conference of the United States ...    36.0\n",
       "Advisory Council on Historic Preservation      ...   108.0\n",
       "Affordable Housing Program                     ...  2506.0\n",
       "...                                                    ...\n",
       "United Mine Workers of America Benefit Funds   ...  5072.0\n",
       "United States Court of Appeals for Veterans Cla...   589.0\n",
       "United States Holocaust Memorial Museum        ...   734.0\n",
       "United States Institute of Peace               ...   619.0\n",
       "United States Interagency Council on Homelessne...    48.0\n",
       "\n",
       "[365 rows x 1 columns]"
      ]
     },
     "execution_count": 76,
     "metadata": {},
     "output_type": "execute_result"
    }
   ],
   "source": [
    "#FEB 2024 CBO SPENDING PROJECTIONS\n",
    "currentyr = 2024\n",
    "years = [i for i in range(currentyr, currentyr+11)] \n",
    "cbo_ot = pd.read_excel('data/cbo-2024-02-Spending-Projections.xlsx', header=7, sheet_name=1)\n",
    "cbo_ot = cbo_ot[[col for col in cbo_ot.columns if col not in years]] #remove the BA cols\n",
    "cbo_ot.columns = cbo_ot.columns.str.replace('.1', '')\n",
    "cbo_ot = cbo_ot.drop(columns=['Unnamed: 9', \"Unnamed: 21\", \"Off-Budget?\"]).drop(index=0).drop(cbo_ot.index[-2:])\n",
    "cbo_ot['25-34'] = cbo_ot.loc[:, '2025':'2034'].sum(axis=1)\n",
    "#cbo_ot[\"Agency-Bureau-Program\"] = cbo_ot[\"Agency\"] + \"BUREAU: \" + cbo_ot[\"Bureau\"] + \"PROGRAM: \" + cbo_ot[\"Title\"]\n",
    "cbo_ot[\"Agency-Bureau\"] = cbo_ot[\"Agency\"] + \"BUREAU: \" + cbo_ot[\"Bureau\"]\n",
    "agency_bureau_10yr_2024 = cbo_ot[[\"Agency-Bureau\", \"25-34\"]].groupby(\"Agency-Bureau\").sum()\n",
    "agency_bureau_10yr_2024"
   ]
  },
  {
   "cell_type": "code",
   "execution_count": 46,
   "metadata": {},
   "outputs": [],
   "source": [
    "#FEB 2021 CBO SPENDING PROJECTIONS\n",
    "cbo21_ot = pd.read_excel('data/cbo-2021-02-11-spendingprojections.xlsx', header=7, sheet_name=1)\n",
    "years_21 = [i for i in range(2021, 2032)]\n",
    "cbo21_ot = cbo21_ot[[col for col in cbo21_ot.columns if col not in years_21]].drop(columns=[\"Off-Budget?\", \"Unnamed: 9\", \"Unnamed: 21\"]) #remove the BA cols, unnamed and unnecessary columns\n",
    "cbo21_ot.columns = cbo21_ot.columns.str.replace('.1', '') #clean OT columns\n",
    "cbo21_ot[\"22-31\"] = cbo21_ot.loc[:, '2022':'2031'].sum(axis=1) #sum the years\n",
    "cbo21_ot[\"Agency-Bureau\"] = cbo21_ot[\"Agency\"] + \"BUREAU: \" + cbo21_ot[\"Bureau\"] #create a new column for agency-bureau\n",
    "agency_bureau_10yr_2021 = cbo21_ot[[\"Agency-Bureau\", \"22-31\"]].groupby(\"Agency-Bureau\").sum() #group by agency-bureau and sum the total"
   ]
  },
  {
   "cell_type": "code",
   "execution_count": 75,
   "metadata": {},
   "outputs": [
    {
     "data": {
      "text/plain": [
       "(343, 5)"
      ]
     },
     "execution_count": 75,
     "metadata": {},
     "output_type": "execute_result"
    }
   ],
   "source": [
    "#merge the two dataframes\n",
    "merged = pd.merge(agency_bureau_10yr_2021, agency_bureau_10yr_2024, on=\"Agency-Bureau\", how=\"inner\")\n",
    "merged['percent_change'] = (merged['25-34'] - merged['22-31']) / merged['22-31'] * 100\n",
    "merged.reset_index(inplace=True)\n",
    "\n",
    "merged[\"Agency\"] = merged[\"Agency-Bureau\"].str.extract(r'(.*)BUREAU:')\n",
    "merged[\"Bureau\"] = merged[\"Agency-Bureau\"].str.extract(r'BUREAU:\\s(.*)')\n",
    "merged[\"Agency\"] = merged[\"Agency\"].str.strip()\n",
    "merged[\"Bureau\"] = merged[\"Bureau\"].str.strip()\n",
    "\n",
    "merged = merged[['Agency-Bureau', 'Agency', 'Bureau', '22-31', '25-34', 'percent_change']]\n",
    "merged = merged.drop(columns=[\"Agency-Bureau\"])\n",
    "\n",
    "#merged.to_excel(\"output/cbo_spending_changes_S1.xlsx\", index=False)\n",
    "merged.shape"
   ]
  },
  {
   "cell_type": "code",
   "execution_count": null,
   "metadata": {},
   "outputs": [],
   "source": [
    "with pd.ExcelWriter(\"output/cbo_spending_changes_S1.xlsx\", mode='a', engine=\"openpyxl\") as writer:\n",
    "    merged.to_excel(writer, index=False)"
   ]
  }
 ],
 "metadata": {
  "kernelspec": {
   "display_name": "Python 3",
   "language": "python",
   "name": "python3"
  },
  "language_info": {
   "codemirror_mode": {
    "name": "ipython",
    "version": 3
   },
   "file_extension": ".py",
   "mimetype": "text/x-python",
   "name": "python",
   "nbconvert_exporter": "python",
   "pygments_lexer": "ipython3",
   "version": "3.12.2"
  }
 },
 "nbformat": 4,
 "nbformat_minor": 2
}
